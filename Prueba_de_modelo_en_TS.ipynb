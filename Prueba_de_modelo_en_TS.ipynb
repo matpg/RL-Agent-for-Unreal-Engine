{
  "nbformat": 4,
  "nbformat_minor": 0,
  "metadata": {
    "colab": {
      "name": "Prueba de modelo en TS.ipynb",
      "provenance": [],
      "collapsed_sections": [],
      "toc_visible": true,
      "include_colab_link": true
    },
    "kernelspec": {
      "display_name": "Python 3",
      "name": "python3"
    }
  },
  "cells": [
    {
      "cell_type": "markdown",
      "metadata": {
        "id": "view-in-github",
        "colab_type": "text"
      },
      "source": [
        "<a href=\"https://colab.research.google.com/github/matpg/RL-Agent-for-Unreal-Engine-4/blob/main/Prueba_de_modelo_en_TS.ipynb\" target=\"_parent\"><img src=\"https://colab.research.google.com/assets/colab-badge.svg\" alt=\"Open In Colab\"/></a>"
      ]
    },
    {
      "cell_type": "code",
      "metadata": {
        "id": "Le5OB-fBHHW7",
        "colab": {
          "base_uri": "https://localhost:8080/"
        },
        "outputId": "6dab6908-0d53-4972-b1a9-dc7a64f87ad3"
      },
      "source": [
        "import os\n",
        "import tempfile\n",
        "\n",
        "from matplotlib import pyplot as plt\n",
        "import numpy as np\n",
        "%tensorflow_version 1.x\n",
        "import tensorflow as tf\n",
        "from tensorflow.python.platform import gfile\n",
        "import cv2\n"
      ],
      "execution_count": 1,
      "outputs": [
        {
          "output_type": "stream",
          "text": [
            "TensorFlow 1.x selected.\n"
          ],
          "name": "stdout"
        }
      ]
    },
    {
      "cell_type": "code",
      "metadata": {
        "id": "HxgKPIkxwjwQ",
        "colab": {
          "base_uri": "https://localhost:8080/"
        },
        "outputId": "e91f12ac-09e1-41ec-b20f-f7664f7bdb7d"
      },
      "source": [
        "print(tf.version.VERSION)"
      ],
      "execution_count": 2,
      "outputs": [
        {
          "output_type": "stream",
          "text": [
            "1.15.2\n"
          ],
          "name": "stdout"
        }
      ]
    },
    {
      "cell_type": "code",
      "metadata": {
        "id": "v_ZhTKZWDlnI",
        "colab": {
          "base_uri": "https://localhost:8080/"
        },
        "outputId": "8a452715-6344-4c2f-ad5d-39dbacf0e9f1"
      },
      "source": [
        "from google.colab import drive\n",
        "drive.mount('/content/drive')"
      ],
      "execution_count": 3,
      "outputs": [
        {
          "output_type": "stream",
          "text": [
            "Mounted at /content/drive\n"
          ],
          "name": "stdout"
        }
      ]
    },
    {
      "cell_type": "code",
      "metadata": {
        "id": "SofdPKo0G8Lb",
        "colab": {
          "base_uri": "https://localhost:8080/",
          "height": 267
        },
        "outputId": "9907f6ad-9b7e-4fe2-a2bb-3de291a378da"
      },
      "source": [
        "'''\n",
        "\n",
        "'''\n",
        "\n",
        "def img_route(obsdnumpy_folder, number_ob):\n",
        "  file = '/content/drive/MyDrive/Colab Notebooks/modelo ts agentnet/archivos de observaciones/obsnumpy'+str(obsdnumpy_folder)+\"/obsimage(\"+str(number_ob)+\").png\"\n",
        "  img = tf.keras.preprocessing.image.load_img(file, target_size=[231, 231])\n",
        "  img_to_test = tf.keras.preprocessing.image.img_to_array(img)\n",
        "  # img_to_test = np.array(img_to_test).reshape(1, 72, 72, 3)\n",
        "  print(img_to_test.shape)\n",
        "  return img_to_test, img\n",
        "\n",
        "n_folder = 5\n",
        "image_test_index = 0\n",
        "image_to_test, image_to_plt = img_route(n_folder, image_test_index)\n",
        "\n",
        "def print_images(image):\n",
        "  plt.imshow(image)\n",
        "  plt.axis('off')\n",
        "\n",
        "print_images(image_to_plt)\n",
        "# EN UE4, SE PODRIA GENERAR LA IMAGEN NEGRA, Y \n",
        "# LUEGO, CON DIRECCIONES O PUNTOS DE REFERENCIA DADAS,\n",
        "# GENERAR EL TRINGULO DEL AGENTE EN COLOR ROJO"
      ],
      "execution_count": 303,
      "outputs": [
        {
          "output_type": "stream",
          "text": [
            "(231, 231, 3)\n"
          ],
          "name": "stdout"
        },
        {
          "output_type": "display_data",
          "data": {
            "image/png": "[encoded data removed]",
            "text/plain": [
              "<Figure size 432x288 with 1 Axes>"
            ]
          },
          "metadata": {
            "tags": [],
            "needs_background": "light"
          }
        }
      ]
    },
    {
      "cell_type": "code",
      "metadata": {
        "id": "aIh-ugCswT_I",
        "colab": {
          "base_uri": "https://localhost:8080/",
          "height": 287
        },
        "outputId": "d664080d-af2c-4fa4-9a2a-cd2c0cdfe8f6"
      },
      "source": [
        "'''\n",
        "  CARGA DE ARCHIVOS DE OBSERVACION EN FORMATO NUMPY\n",
        "  IMPRESION DE ARRAYS A IMAGENES\n",
        "\n",
        "  OBS NUMPY 1:\n",
        "  00 - 16 \n",
        "  17 - 26\n",
        "  27 - 39\n",
        "\n",
        "  OBS NUMPY 3\n",
        "  EP1:\n",
        "    51 - 53\n",
        "    100\n",
        "    277 - 288\n",
        "\n",
        "  OBS NUMPY 4\n",
        "  EP1:\n",
        "    00 - 05\n",
        "  EP2:\n",
        "    07 - 31\n",
        "\n",
        "    OBS NUMPY 6\n",
        "  EP1:\n",
        "    00 - 20\n",
        "  EP2:\n",
        "    21 - 42\n",
        "  EP3:\n",
        "    43 - \n",
        " \n",
        "'''\n",
        "\n",
        "def obs_route(obsdnumpy_folder, number_ob):\n",
        "  file = \"/content/drive/MyDrive/Colab Notebooks/modelo ts agentnet/archivos de observaciones/obsnumpy\"+str(obsdnumpy_folder)+\"/obs_array(\"+str(number_ob)+\").npy\"\n",
        "  obs = np.load(file)\n",
        "  # print(obs)\n",
        "  # print(obs.shape)\n",
        "  # np.reshape(obs, newshape=[72, 72, 3])\n",
        "  obs_img = obs[0]\n",
        "  return obs, obs_img \n",
        "\n",
        "n_folder = 6\n",
        "\n",
        "image_test_index = 49\n",
        "image_to_test, image_to_plt  = obs_route(n_folder, image_test_index)\n",
        "\n",
        "def print_images(image):\n",
        "  #image *= 255\n",
        "  plt.imshow(image)\n",
        "  plt.axis('off')\n",
        "\n",
        "'''\n",
        "  PROBAR CON PROGRAMAR ESTE ENTORNO CON EL AGENTE Y LA META\n",
        "  DE LA MISMA FORMA Y POSICION DEL NIVEL UE4\n",
        "\n",
        "'''\n",
        "print_images(image_to_plt)\n"
      ],
      "execution_count": 438,
      "outputs": [
        {
          "output_type": "stream",
          "text": [
            "Clipping input data to the valid range for imshow with RGB data ([0..1] for floats or [0..255] for integers).\n"
          ],
          "name": "stderr"
        },
        {
          "output_type": "display_data",
          "data": {
            "image/png": "[encoded data removed]",
            "text/plain": [
              "<Figure size 432x288 with 1 Axes>"
            ]
          },
          "metadata": {
            "tags": [],
            "needs_background": "light"
          }
        }
      ]
    },
    {
      "cell_type": "code",
      "metadata": {
        "id": "ljb5h0ih22CT",
        "colab": {
          "base_uri": "https://localhost:8080/"
        },
        "outputId": "44689292-1c81-4cc5-f924-a4225016ef04"
      },
      "source": [
        "'''\n",
        "  MODELO TENSORFLOW EN 1.X\n",
        "  FORMATO PROTOBUF\n",
        "  INPUT: N, 72, 72, 3\n",
        "'''\n",
        "# MODELO PARA ENTORNOS GENERALES\n",
        "path_model_1 = \"/content/drive/MyDrive/Colab Notebooks/modelo ts agentnet/archivos modelo ts/agentnet modelo general\"\n",
        "# MODELO PARA ENTORNO SIMULADO DE UE4\n",
        "path_model_2 = \"/content/drive/MyDrive/Colab Notebooks/modelo ts agentnet/archivos modelo ts/agentnet modelo simulado\"\n",
        "\n",
        "model_paths = [path_model_1, path_model_2]\n",
        "path_to_test_model = 1\n",
        "agentnet_save_path = model_paths[path_to_test_model-1]\n",
        " \n",
        "with tf.Session(graph=tf.Graph()) as sess:\n",
        "  tf.saved_model.loader.load(sess, [\"serve\"], agentnet_save_path)    \n",
        "  graph = tf.get_default_graph()\n",
        "  # print(graph.get_operations())\n",
        "  # print(graph.get_all_collection_keys())\n",
        "  out = sess.run('output/Softmax:0', feed_dict={'input/Ob:0':image_to_test})\n",
        "  print(out)\n",
        "  most_prob_action = np.argmax(out)\n",
        "  if most_prob_action == 0 : print('You have to turn left.')\n",
        "  if most_prob_action == 1 : print('You have to turn right.')\n",
        "  if most_prob_action == 2 : print('You have to move forward.')\n",
        "  if most_prob_action == 3 : print('You have to do pick up an object.')\n",
        "  if most_prob_action == 4 : print('You have to do drop the object.')\n",
        "  if most_prob_action == 5 : print('You have to toggle/interact with object.')\n",
        "  if most_prob_action == 6 : print('Scnario done.')\n",
        "\n",
        "  # sess.run('output/Softmax:0'"
      ],
      "execution_count": 439,
      "outputs": [
        {
          "output_type": "stream",
          "text": [
            "INFO:tensorflow:Restoring parameters from /content/drive/MyDrive/Colab Notebooks/modelo ts agentnet/archivos modelo ts/agentnet modelo general/variables/variables\n",
            "[[0.14240211 0.65864503 0.15312368 0.0091861  0.00662244 0.02567974\n",
            "  0.00434089]]\n",
            "You have to turn right.\n"
          ],
          "name": "stdout"
        }
      ]
    },
    {
      "cell_type": "markdown",
      "metadata": {
        "id": "v6asr9vOJWS4"
      },
      "source": [
        "![imagen.png](data:image/png;base64,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)"
      ]
    },
    {
      "cell_type": "code",
      "metadata": {
        "id": "AUFvHyq6fmUY"
      },
      "source": [
        "rand_img = np.random.rand(1, 72, 72, 3)\n",
        "rand_img2 = rand_img * 9.1"
      ],
      "execution_count": null,
      "outputs": []
    },
    {
      "cell_type": "code",
      "metadata": {
        "id": "dHUNOcU79AK4"
      },
      "source": [
        "-------------------------------------------------------------------------------------------\n",
        "-------------------------------------------------------------------------------------------\n",
        "-------------------------------------------------------------------------------------------"
      ],
      "execution_count": null,
      "outputs": []
    },
    {
      "cell_type": "code",
      "metadata": {
        "id": "NP2UpVFRV7N_"
      },
      "source": [
        "#TENSORFLOW 2\n",
        "agentnet_save_path = \"/content/drive/MyDrive/Colab Notebooks/modelo ts agentnet\"\n",
        "loaded = tf.saved_model.load(sess=None, tags=['serve'], export_dir=agentnet_save_path)\n",
        "print(list(loaded.signatures.keys()))  # [\"serving_default\"]"
      ],
      "execution_count": null,
      "outputs": []
    },
    {
      "cell_type": "code",
      "metadata": {
        "id": "y215fBSGDfsu"
      },
      "source": [
        "agentnet = loaded"
      ],
      "execution_count": null,
      "outputs": []
    },
    {
      "cell_type": "code",
      "metadata": {
        "id": "ChFLpegYfQGR",
        "colab": {
          "base_uri": "https://localhost:8080/"
        },
        "outputId": "bbaa7be8-224b-4870-acf0-c43d8ef3fd4b"
      },
      "source": [
        "infer = loaded.signatures[\"serving_default\"]\n",
        "print(infer.structured_outputs)"
      ],
      "execution_count": null,
      "outputs": [
        {
          "output_type": "stream",
          "text": [
            "{'action': <tf.Tensor 'output/Softmax:0' shape=(None, 7) dtype=float32>}\n"
          ],
          "name": "stdout"
        }
      ]
    },
    {
      "cell_type": "code",
      "metadata": {
        "id": "XDs8ybA-xGjT",
        "colab": {
          "base_uri": "https://localhost:8080/"
        },
        "outputId": "92f0c598-53d9-48a7-9876-545ca286a699"
      },
      "source": [
        "%cd {agentnet_save_path}"
      ],
      "execution_count": null,
      "outputs": [
        {
          "output_type": "stream",
          "text": [
            "/content/drive/MyDrive/Colab Notebooks/modelo ts agentnet\n"
          ],
          "name": "stdout"
        }
      ]
    },
    {
      "cell_type": "code",
      "metadata": {
        "id": "Pus0dOYTYXbI"
      },
      "source": [
        "!saved_model_cli show --dir . --tag_set serve"
      ],
      "execution_count": null,
      "outputs": []
    },
    {
      "cell_type": "code",
      "metadata": {
        "id": "oPCUyJxXuukr"
      },
      "source": [
        "new_model = tf.keras.models.load_model(agentnet_save_path)\n",
        "# Check its architecture\n",
        "new_model"
      ],
      "execution_count": null,
      "outputs": []
    },
    {
      "cell_type": "code",
      "metadata": {
        "id": "z62A7FeD4rej"
      },
      "source": [
        "#TENSORFLOW 2.0\n",
        "\n",
        "img = cv2.imread(file)\n",
        "flag, bts = cv2.imencode('.jpg', img)\n",
        "inp = [bts[:,0].tobytes()]\n",
        "loaded = tf.saved_model.load(export_dir=agentnet_save_path)\n",
        "infer = loaded.signatures[\"serving_default\"]\n",
        "print(infer.graph)\n",
        "print(infer.inputs)\n",
        "print(infer.outputs)\n",
        "print(infer.structured_input_signature)\n",
        "print(infer.structured_outputs)\n",
        "print(infer.name)\n",
        "print(infer.variables)\n",
        "out = infer(key=tf.constant(''), image_bytes=tf.constant(img))"
      ],
      "execution_count": null,
      "outputs": []
    }
  ]
}