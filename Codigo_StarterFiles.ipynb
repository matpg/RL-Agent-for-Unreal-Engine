{
  "nbformat": 4,
  "nbformat_minor": 0,
  "metadata": {
    "colab": {
      "name": "Codigo StarterFiles",
      "provenance": [],
      "collapsed_sections": [],
      "include_colab_link": true
    },
    "kernelspec": {
      "name": "python3",
      "display_name": "Python 3"
    },
    "accelerator": "GPU"
  },
  "cells": [
    {
      "cell_type": "markdown",
      "metadata": {
        "id": "view-in-github",
        "colab_type": "text"
      },
      "source": [
        "<a href=\"https://colab.research.google.com/github/matpg/RL-Agent-for-Unreal-Engine/blob/main/Codigo_StarterFiles.ipynb\" target=\"_parent\"><img src=\"https://colab.research.google.com/assets/colab-badge.svg\" alt=\"Open In Colab\"/></a>"
      ]
    },
    {
      "cell_type": "markdown",
      "metadata": {
        "id": "B9coZC-lOE49"
      },
      "source": [
        "### Descarga de Librerias"
      ]
    },
    {
      "cell_type": "code",
      "metadata": {
        "id": "shtdieQAXn0N"
      },
      "source": [
        "!git clone https://github.com/lcswillems/rl-starter-files.git\n",
        "%cd rl-starter-files/\n",
        "!pip3 install -r requirements.txt"
      ],
      "execution_count": null,
      "outputs": []
    },
    {
      "cell_type": "markdown",
      "metadata": {
        "id": "vva6JZgUX7Xo"
      },
      "source": [
        "### Entrenamiento del Agente"
      ]
    },
    {
      "cell_type": "code",
      "metadata": {
        "id": "nN4ZXeW9ckNC"
      },
      "source": [
        "!python3 -m scripts.train --algo ppo --env MiniGrid-DoorKey-5x5-v0 --model DoorKey --save-interval 10 --frames 80000"
      ],
      "execution_count": null,
      "outputs": []
    },
    {
      "cell_type": "markdown",
      "metadata": {
        "id": "64G89o3-OTMx"
      },
      "source": [
        "### Evaluación del Agente"
      ]
    },
    {
      "cell_type": "code",
      "metadata": {
        "id": "zUDDvlWydRJZ"
      },
      "source": [
        "!python3 -m scripts.evaluate --env MiniGrid-DoorKey-5x5-v0 --model DoorKey"
      ],
      "execution_count": null,
      "outputs": []
    },
    {
      "cell_type": "markdown",
      "metadata": {
        "id": "OXrcYhaQOXTA"
      },
      "source": [
        "### Extras"
      ]
    },
    {
      "cell_type": "code",
      "metadata": {
        "id": "crBzHKvddylP"
      },
      "source": [
        "!python3 -m scripts.train --algo ppo --env MiniGrid-LavaCrossingS9N1-v0 --model Crossing --save-interval 10 --frames 80000"
      ],
      "execution_count": null,
      "outputs": []
    },
    {
      "cell_type": "code",
      "metadata": {
        "id": "0ZltbBOsd-kX"
      },
      "source": [
        "!python3 -m scripts.evaluate --env MiniGrid-LavaCrossingS9N1-v0 --model Crossing"
      ],
      "execution_count": null,
      "outputs": []
    }
  ]
}